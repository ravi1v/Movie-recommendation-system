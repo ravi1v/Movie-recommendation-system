{
 "cells": [
  {
   "cell_type": "code",
   "execution_count": 1,
   "id": "6c534e74-59d2-439b-8b9f-9f1beeab2c0b",
   "metadata": {},
   "outputs": [],
   "source": [
    "import pandas as pd\n",
    "import numpy as np"
   ]
  },
  {
   "cell_type": "markdown",
   "id": "bba3bbd8-201a-4509-be0d-1ab3e490ab60",
   "metadata": {},
   "source": [
    "Loading Datasets all 5"
   ]
  },
  {
   "cell_type": "code",
   "execution_count": 2,
   "id": "bd37377b-e38c-4077-94d0-d7a8e29fee2d",
   "metadata": {},
   "outputs": [],
   "source": [
    "movies = pd.read_csv('movies.csv')\n",
    "ratings = pd.read_csv('ratings.csv')\n",
    "links = pd.read_csv('links.csv')\n",
    "tags = pd.read_csv('tags.csv')\n"
   ]
  },
  {
   "cell_type": "code",
   "execution_count": 3,
   "id": "d7f3240f-1d43-4dbe-95bc-a667fa335936",
   "metadata": {},
   "outputs": [
    {
     "name": "stdout",
     "output_type": "stream",
     "text": [
      "       movieId                               title  \\\n",
      "0            1                    Toy Story (1995)   \n",
      "1            2                      Jumanji (1995)   \n",
      "2            3             Grumpier Old Men (1995)   \n",
      "3            4            Waiting to Exhale (1995)   \n",
      "4            5  Father of the Bride Part II (1995)   \n",
      "...        ...                                 ...   \n",
      "87580   292731           The Monroy Affaire (2022)   \n",
      "87581   292737          Shelter in Solitude (2023)   \n",
      "87582   292753                         Orca (2023)   \n",
      "87583   292755              The Angry Breed (1968)   \n",
      "87584   292757           Race to the Summit (2023)   \n",
      "\n",
      "                                            genres  \n",
      "0      Adventure|Animation|Children|Comedy|Fantasy  \n",
      "1                       Adventure|Children|Fantasy  \n",
      "2                                   Comedy|Romance  \n",
      "3                             Comedy|Drama|Romance  \n",
      "4                                           Comedy  \n",
      "...                                            ...  \n",
      "87580                                        Drama  \n",
      "87581                                 Comedy|Drama  \n",
      "87582                                        Drama  \n",
      "87583                                        Drama  \n",
      "87584                 Action|Adventure|Documentary  \n",
      "\n",
      "[87585 rows x 3 columns]\n"
     ]
    }
   ],
   "source": [
    "print(movies)"
   ]
  },
  {
   "cell_type": "code",
   "execution_count": 4,
   "id": "923c27ad-ed7e-4b7c-a1f3-fd4d3b1856c8",
   "metadata": {},
   "outputs": [
    {
     "name": "stdout",
     "output_type": "stream",
     "text": [
      "          userId  movieId  rating   timestamp\n",
      "0              1       17     4.0   944249077\n",
      "1              1       25     1.0   944250228\n",
      "2              1       29     2.0   943230976\n",
      "3              1       30     5.0   944249077\n",
      "4              1       32     5.0   943228858\n",
      "...          ...      ...     ...         ...\n",
      "32000199  200948    79702     4.5  1294412589\n",
      "32000200  200948    79796     1.0  1287216292\n",
      "32000201  200948    80350     0.5  1294412671\n",
      "32000202  200948    80463     3.5  1350423800\n",
      "32000203  200948    87304     4.5  1350423523\n",
      "\n",
      "[32000204 rows x 4 columns]\n"
     ]
    }
   ],
   "source": [
    "print(ratings)"
   ]
  },
  {
   "cell_type": "code",
   "execution_count": 5,
   "id": "c58442c2-a503-43b3-bf7d-3e89d302a783",
   "metadata": {},
   "outputs": [
    {
     "name": "stdout",
     "output_type": "stream",
     "text": [
      "       movieId    imdbId     tmdbId\n",
      "0            1    114709      862.0\n",
      "1            2    113497     8844.0\n",
      "2            3    113228    15602.0\n",
      "3            4    114885    31357.0\n",
      "4            5    113041    11862.0\n",
      "...        ...       ...        ...\n",
      "87580   292731  26812510  1032473.0\n",
      "87581   292737  14907358   986674.0\n",
      "87582   292753  12388280   948139.0\n",
      "87583   292755     64027   182776.0\n",
      "87584   292757  28995566  1174725.0\n",
      "\n",
      "[87585 rows x 3 columns]\n"
     ]
    }
   ],
   "source": [
    "print(links)"
   ]
  },
  {
   "cell_type": "code",
   "execution_count": 6,
   "id": "3e507ceb-2238-4797-b417-ed8045e36d78",
   "metadata": {},
   "outputs": [
    {
     "name": "stdout",
     "output_type": "stream",
     "text": [
      "         userId  movieId             tag   timestamp\n",
      "0            22    26479     Kevin Kline  1583038886\n",
      "1            22    79592        misogyny  1581476297\n",
      "2            22   247150      acrophobia  1622483469\n",
      "3            34     2174           music  1249808064\n",
      "4            34     2174           weird  1249808102\n",
      "...         ...      ...             ...         ...\n",
      "2000067  162279    90645      Rafe Spall  1320817734\n",
      "2000068  162279    91079   Anton Yelchin  1322337407\n",
      "2000069  162279    91079  Felicity Jones  1322337400\n",
      "2000070  162279    91658     Rooney Mara  1325828398\n",
      "2000071  162279   100714     Julie Delpy  1373095449\n",
      "\n",
      "[2000072 rows x 4 columns]\n"
     ]
    }
   ],
   "source": [
    "print(tags)"
   ]
  },
  {
   "cell_type": "code",
   "execution_count": 7,
   "id": "53f12425-a45b-45f1-978e-f3341f5a0422",
   "metadata": {},
   "outputs": [
    {
     "name": "stdout",
     "output_type": "stream",
     "text": [
      "   movieId                               title  \\\n",
      "0        1                    Toy Story (1995)   \n",
      "1        2                      Jumanji (1995)   \n",
      "2        3             Grumpier Old Men (1995)   \n",
      "3        4            Waiting to Exhale (1995)   \n",
      "4        5  Father of the Bride Part II (1995)   \n",
      "\n",
      "                                        genres  \n",
      "0  Adventure|Animation|Children|Comedy|Fantasy  \n",
      "1                   Adventure|Children|Fantasy  \n",
      "2                               Comedy|Romance  \n",
      "3                         Comedy|Drama|Romance  \n",
      "4                                       Comedy  \n"
     ]
    }
   ],
   "source": [
    "print(movies.head())"
   ]
  },
  {
   "cell_type": "code",
   "execution_count": 20,
   "id": "28fbd8cd-9174-4e95-875c-8776c7b7db6d",
   "metadata": {},
   "outputs": [
    {
     "name": "stdout",
     "output_type": "stream",
     "text": [
      "<class 'pandas.core.frame.DataFrame'>\n",
      "RangeIndex: 32000204 entries, 0 to 32000203\n",
      "Data columns (total 4 columns):\n",
      " #   Column     Dtype         \n",
      "---  ------     -----         \n",
      " 0   userId     int32         \n",
      " 1   movieId    int32         \n",
      " 2   rating     float32       \n",
      " 3   timestamp  datetime64[ns]\n",
      "dtypes: datetime64[ns](1), float32(1), int32(2)\n",
      "memory usage: 610.4 MB\n",
      "None\n"
     ]
    }
   ],
   "source": [
    "print(ratings.info())"
   ]
  },
  {
   "cell_type": "code",
   "execution_count": 21,
   "id": "c693a2cb-d90a-4df7-a91f-e477754f78c0",
   "metadata": {},
   "outputs": [
    {
     "name": "stdout",
     "output_type": "stream",
     "text": [
      "   movieId  imdbId   tmdbId                               imdb_url\n",
      "0        1  114709    862.0  https://www.imdb.com/title/tt0114709/\n",
      "1        2  113497   8844.0  https://www.imdb.com/title/tt0113497/\n",
      "2        3  113228  15602.0  https://www.imdb.com/title/tt0113228/\n",
      "3        4  114885  31357.0  https://www.imdb.com/title/tt0114885/\n",
      "4        5  113041  11862.0  https://www.imdb.com/title/tt0113041/\n"
     ]
    }
   ],
   "source": [
    "print(links.head())"
   ]
  },
  {
   "cell_type": "code",
   "execution_count": 22,
   "id": "579ad64d-fd33-4777-bafb-3493fa379b39",
   "metadata": {},
   "outputs": [
    {
     "name": "stdout",
     "output_type": "stream",
     "text": [
      "   userId  movieId          tag   timestamp\n",
      "0      22    26479  Kevin Kline  1583038886\n",
      "1      22    79592     misogyny  1581476297\n",
      "2      22   247150   acrophobia  1622483469\n",
      "3      34     2174        music  1249808064\n",
      "4      34     2174        weird  1249808102\n"
     ]
    }
   ],
   "source": [
    "print(tags.head())"
   ]
  },
  {
   "cell_type": "markdown",
   "id": "8e32639f-13c5-4d44-9bb8-2fad426bf24d",
   "metadata": {},
   "source": [
    "Checking the missing values"
   ]
  },
  {
   "cell_type": "code",
   "execution_count": 23,
   "id": "9f893f31-113d-4e46-8a15-8bbb08f6cb4b",
   "metadata": {},
   "outputs": [
    {
     "name": "stdout",
     "output_type": "stream",
     "text": [
      "movieId     0\n",
      "title       0\n",
      "genres      0\n",
      "imdb_url    0\n",
      "imdbId      0\n",
      "dtype: int64\n",
      "userId       0\n",
      "movieId      0\n",
      "rating       0\n",
      "timestamp    0\n",
      "dtype: int64\n"
     ]
    }
   ],
   "source": [
    "print(movies.isnull().sum())\n",
    "print(ratings.isnull().sum())"
   ]
  },
  {
   "cell_type": "code",
   "execution_count": 24,
   "id": "f3e59b0c-3daa-4949-a639-6808396426d3",
   "metadata": {},
   "outputs": [],
   "source": [
    "ratings['timestamp'] = pd.to_datetime(ratings['timestamp'],unit = 's')"
   ]
  },
  {
   "cell_type": "code",
   "execution_count": 25,
   "id": "087708ea-6b20-4b0b-b15c-a95ff66a2a20",
   "metadata": {},
   "outputs": [],
   "source": [
    "links['imdb_url'] = 'https://www.imdb.com/title/tt' + links['imdbId'].astype(str).str.zfill(7) + '/'\n",
    "movies = movies.merge(links[['movieId', 'imdb_url']], on='movieId', how='left')\n"
   ]
  },
  {
   "cell_type": "code",
   "execution_count": 26,
   "id": "fd561ca5-ffa7-488f-b67d-4967156ab113",
   "metadata": {},
   "outputs": [],
   "source": [
    "from scipy.sparse import coo_matrix\n",
    "\n",
    "# Create sparse matrix directly from ratings data\n",
    "rows = ratings['userId'].astype('category').cat.codes\n",
    "cols = ratings['movieId'].astype('category').cat.codes\n",
    "data = ratings['rating']\n",
    "\n",
    "sparse_matrix = coo_matrix((data, (rows, cols)))\n"
   ]
  },
  {
   "cell_type": "code",
   "execution_count": 27,
   "id": "bf4d5d43-c38b-47f0-bc26-633eab0686fc",
   "metadata": {},
   "outputs": [],
   "source": [
    "ratings['userId'] = ratings['userId'].astype('int32')\n",
    "ratings['movieId'] = ratings['movieId'].astype('int32')\n",
    "ratings['rating'] = ratings['rating'].astype('float32')\n"
   ]
  },
  {
   "cell_type": "code",
   "execution_count": 28,
   "id": "128fc161-a1bc-4230-ad3d-9bd1dbb11ff9",
   "metadata": {},
   "outputs": [],
   "source": [
    "min_ratings = 10\n",
    "valid_movies = ratings['movieId'].value_counts()[ratings['movieId'].value_counts() > min_ratings].index\n",
    "valid_users = ratings['userId'].value_counts()[ratings['userId'].value_counts() > min_ratings].index\n",
    "\n",
    "filtered_ratings = ratings[ratings['movieId'].isin(valid_movies) & ratings['userId'].isin(valid_users)]\n"
   ]
  },
  {
   "cell_type": "code",
   "execution_count": 32,
   "id": "7f0d30f2-5a84-4cc6-99bb-620dc42d312b",
   "metadata": {},
   "outputs": [
    {
     "name": "stdout",
     "output_type": "stream",
     "text": [
      "Index(['movieId', 'imdbId', 'tmdbId', 'imdb_url'], dtype='object')\n"
     ]
    }
   ],
   "source": [
    "print(links.columns)\n"
   ]
  },
  {
   "cell_type": "code",
   "execution_count": 35,
   "id": "bd60edd0-c24e-4299-b5d5-a06128c8608d",
   "metadata": {},
   "outputs": [],
   "source": [
    "if 'imdbId' in movies.columns:\n",
    "    movies = movies.drop(columns=['imdbId'])\n"
   ]
  },
  {
   "cell_type": "code",
   "execution_count": 36,
   "id": "3f03f48a-931c-4691-8e85-8dce1e291b38",
   "metadata": {},
   "outputs": [],
   "source": [
    "movies = movies.merge(links[['movieId', 'imdbId']], on='movieId', how='left')\n"
   ]
  },
  {
   "cell_type": "code",
   "execution_count": 37,
   "id": "8b8bce1a-5c92-4847-bf47-18cf53fd0bb8",
   "metadata": {},
   "outputs": [],
   "source": [
    "movies = movies.merge(links[['movieId', 'imdbId']], on='movieId', how='left', suffixes=('', '_links'))\n",
    "\n",
    "if 'imdbId_links' in movies.columns:\n",
    "    movies = movies.drop(columns=['imdbId_links'])\n"
   ]
  },
  {
   "cell_type": "code",
   "execution_count": 38,
   "id": "981e85ad-cf99-44c0-8519-9f4f393555e4",
   "metadata": {},
   "outputs": [
    {
     "name": "stdout",
     "output_type": "stream",
     "text": [
      "   movieId                               title  \\\n",
      "0        1                    Toy Story (1995)   \n",
      "1        2                      Jumanji (1995)   \n",
      "2        3             Grumpier Old Men (1995)   \n",
      "3        4            Waiting to Exhale (1995)   \n",
      "4        5  Father of the Bride Part II (1995)   \n",
      "\n",
      "                                imdb_url  \n",
      "0  https://www.imdb.com/title/tt0114709/  \n",
      "1  https://www.imdb.com/title/tt0113497/  \n",
      "2  https://www.imdb.com/title/tt0113228/  \n",
      "3  https://www.imdb.com/title/tt0114885/  \n",
      "4  https://www.imdb.com/title/tt0113041/  \n"
     ]
    }
   ],
   "source": [
    "import pandas as pd\n",
    "\n",
    "# Load MovieLens data\n",
    "movies = pd.read_csv('movies.csv')\n",
    "links = pd.read_csv('links.csv')\n",
    "\n",
    "# Merge imdbId from links into movies based on movieId\n",
    "movies = movies.merge(links[['movieId', 'imdbId']], on='movieId', how='left')\n",
    "\n",
    "# Create new imdb_url column combining 'imdbId' with IMDb URL prefix\n",
    "movies['imdb_url'] = 'https://www.imdb.com/title/tt' + movies['imdbId'].astype(str).str.zfill(7) + '/'\n",
    "\n",
    "# Optional: save updated DataFrame with URL to a new CSV file\n",
    "movies.to_csv('movies_with_imdb_url.csv', index=False)\n",
    "\n",
    "# View result sample\n",
    "print(movies[['movieId', 'title', 'imdb_url']].head())\n"
   ]
  },
  {
   "cell_type": "code",
   "execution_count": null,
   "id": "38e0e4ae-23c2-4516-b486-a402b7f99f37",
   "metadata": {},
   "outputs": [],
   "source": [
    "\n"
   ]
  }
 ],
 "metadata": {
  "kernelspec": {
   "display_name": "Python 3 (ipykernel)",
   "language": "python",
   "name": "python3"
  },
  "language_info": {
   "codemirror_mode": {
    "name": "ipython",
    "version": 3
   },
   "file_extension": ".py",
   "mimetype": "text/x-python",
   "name": "python",
   "nbconvert_exporter": "python",
   "pygments_lexer": "ipython3",
   "version": "3.12.8"
  }
 },
 "nbformat": 4,
 "nbformat_minor": 5
}
